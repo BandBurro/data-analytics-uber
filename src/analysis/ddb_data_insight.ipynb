{
 "cells": [
  {
   "cell_type": "code",
   "execution_count": null,
   "id": "9e683563",
   "metadata": {},
   "outputs": [
    {
     "ename": "SyntaxError",
     "evalue": "invalid syntax (1519514483.py, line 2)",
     "output_type": "error",
     "traceback": [
      "  \u001b[36mCell\u001b[39m\u001b[36m \u001b[39m\u001b[32mIn[9]\u001b[39m\u001b[32m, line 2\u001b[39m\n\u001b[31m    \u001b[39m\u001b[31mpip install pandas\u001b[39m\n        ^\n\u001b[31mSyntaxError\u001b[39m\u001b[31m:\u001b[39m invalid syntax\n"
     ]
    }
   ],
   "source": [
    "# Ensure deps are available in the kernel\n",
    "import sys, subprocess\n",
    "subprocess.run([sys.executable, \"-m\", \"pip\", \"install\", \"duckdb\", \"pandas\"], check=False)"
   ]
  },
  {
   "cell_type": "markdown",
   "id": "5db92fb1",
   "metadata": {},
   "source": [
    "Instalei todas as libraries no venv, e importei com alias, tambem precisei restartar o kernel\n",
    "\n",
    "Lembrar de executar os codigos com alias, apos importar com nome proprio"
   ]
  },
  {
   "cell_type": "code",
   "execution_count": null,
   "id": "7e61c583",
   "metadata": {},
   "outputs": [],
   "source": [
    "import duckdb as ddb\n",
    "import pandas as pd\n",
    "import os\n",
    "from dotenv import load_dotenv\n",
    "\n",
    "load_dotenv()\n",
    "csv_path = os.getenv(\"CSV_PATH\", \"./data/cleaned_up_pandas.csv\")\n",
    "\n",
    "df = pd.read_csv(csv_path)\n",
    "con = ddb.connect()"
   ]
  },
  {
   "cell_type": "markdown",
   "id": "8a03abaf",
   "metadata": {},
   "source": [
    "O path do arquivo csv pode ser problemático, checar e usar o \"\"../../\" como wildcard para paths"
   ]
  },
  {
   "cell_type": "code",
   "execution_count": null,
   "id": "3b546739",
   "metadata": {},
   "outputs": [
    {
     "name": "stderr",
     "output_type": "stream",
     "text": [
      "Bad pipe message: %s [b'\"Chromium\";v=\"140\", \"Not=A?Brand\";v=\"24\", \"Google Chrome\"']\n",
      "Bad pipe message: %s [b'=\"140\"\\r\\nsec-ch-ua-mobile: ?0\\r\\nsec-ch-ua-platform: \"Windows']\n",
      "Bad pipe message: %s [b'\\nUpgrade-Insecure-Requests: 1\\r\\nUs', b'-Agent: Mozilla/5.0 (Windows NT 10.0; Win64; x64) AppleWebKit/537.36 (KHTML, like Gecko) Chrome/140.']\n",
      "Bad pipe message: %s [b'0.0 Safari/537.36\\r\\nAccept: text/html,applicatio']\n",
      "Bad pipe message: %s [b'xhtml+xml,application/xml;q=0.9,image/avif,image/webp,image/apng,*/*;q=0.8,application/signed-exchange;v=b3;q', b'.7\\r\\nSec-Fetch-Site: none\\r\\nSec-Fetch-Mode: navigate\\r\\nSec-Fetc']\n",
      "Bad pipe message: %s [b'ol: max-age=0\\r\\nsec-ch-ua: \"Chromium\";v=\"140\", \"Not=A?Brand\";v=\"24\", \"Google Chrome\";v=\"140\"\\r\\nsec-ch-ua-mobile: ?0\\r\\n']\n",
      "Bad pipe message: %s [b'c-ch-ua-platform: \"Windows\"\\r\\nUpgrade-Insecure-Requests: 1\\r\\nUser-Agent: Mozilla/5.0 (Windows NT 10.0; Win64; x64) A', b'leWebKit/537.36 (KHTML, like Gecko) Chrome/140.0.0.0 Safari/537.36\\r\\nAccept: text/html,application/xhtml+xml,app']\n",
      "Bad pipe message: %s [b'cation/xml;q=0.9,image/avif,image/webp,image/apng,*/*;q=0.8,application/signed-exchange;v=b3;q=0.7\\r\\nSec-Fet', b'-Site: none\\r\\nSec-Fetch-Mode: navigate\\r\\nSec-Fetch-User: ?1\\r\\nSec-Fetch-Dest: document\\r\\nAccept-Encodi']\n"
     ]
    }
   ],
   "source": [
    "con.execute(\"\"\"\n",
    "  CREATE OR REPLACE VIEW v AS\n",
    "  SELECT * FROM read_csv_auto(\"../../data/cleaned_up_pandas.csv\", header=True)\n",
    "\"\"\")\n",
    "\n",
    "queries = {\n",
    "  \"bookings_per_hour\": \"\"\"\n",
    "    SELECT strftime('%H', Time) AS hour,\n",
    "           COUNT(DISTINCT REPLACE(\"Booking ID\", '\"', '')) AS unique_bookings\n",
    "    FROM v\n",
    "    WHERE Time IS NOT NULL AND Time <> ''\n",
    "    GROUP BY 1\n",
    "    ORDER BY hour;\n",
    "  \"\"\",\n",
    "\n",
    "  \"hour_with_most_bookings\": \"\"\"\n",
    "    SELECT strftime('%H', Time) AS hour,\n",
    "           COUNT(DISTINCT REPLACE(\"Booking ID\", '\"', '')) AS unique_bookings\n",
    "    FROM v\n",
    "    WHERE Time IS NOT NULL AND Time <> ''\n",
    "    GROUP BY 1\n",
    "    ORDER BY unique_bookings DESC\n",
    "    LIMIT 1;\n",
    "  \"\"\",\n",
    "\n",
    "  \"bookings_per_weekday\": \"\"\"\n",
    "    SELECT strftime('%w', Date) AS weekday_num,\n",
    "           CASE strftime('%w', Date)\n",
    "             WHEN '0' THEN 'Sunday' WHEN '1' THEN 'Monday' WHEN '2' THEN 'Tuesday'\n",
    "             WHEN '3' THEN 'Wednesday' WHEN '4' THEN 'Thursday' WHEN '5' THEN 'Friday'\n",
    "             WHEN '6' THEN 'Saturday' END AS weekday_name,\n",
    "           COUNT(DISTINCT REPLACE(\"Booking ID\", '\"', '')) AS unique_bookings\n",
    "    FROM v\n",
    "    WHERE Date IS NOT NULL AND Date <> ''\n",
    "    GROUP BY 1,2\n",
    "    ORDER BY weekday_num;\n",
    "  \"\"\",\n",
    "\n",
    "  \"month_with_most_bookings\": \"\"\"\n",
    "    SELECT strftime('%Y-%m', Date) AS month,\n",
    "           COUNT(DISTINCT REPLACE(\"Booking ID\", '\"', '')) AS bookings\n",
    "    FROM v\n",
    "    WHERE Date IS NOT NULL AND Date <> ''\n",
    "    GROUP BY 1\n",
    "    ORDER BY bookings DESC\n",
    "    LIMIT 1;\n",
    "  \"\"\",\n",
    "\n",
    "  \"booking_status_breakdown\": \"\"\"\n",
    "    SELECT \"Booking Status\",\n",
    "           COUNT(DISTINCT REPLACE(\"Booking ID\", '\"', '')) AS bookings\n",
    "    FROM v\n",
    "    GROUP BY 1\n",
    "    ORDER BY bookings DESC;\n",
    "  \"\"\",\n",
    "\n",
    "  \"top_customer_and_payment_methods\": \"\"\"\n",
    "    WITH top_customer AS (\n",
    "      SELECT REPLACE(\"Customer ID\", '\"', '') AS customer_id,\n",
    "             COUNT(DISTINCT REPLACE(\"Booking ID\", '\"', '')) AS total_bookings\n",
    "      FROM v\n",
    "      GROUP BY 1\n",
    "      ORDER BY total_bookings DESC\n",
    "      LIMIT 1\n",
    "    )\n",
    "    SELECT t.customer_id,\n",
    "           v.\"Payment Method\",\n",
    "           COUNT(DISTINCT REPLACE(v.\"Booking ID\", '\"', '')) AS bookings_for_method\n",
    "    FROM v\n",
    "    JOIN top_customer t\n",
    "      ON REPLACE(v.\"Customer ID\", '\"', '') = t.customer_id\n",
    "    GROUP BY t.customer_id, v.\"Payment Method\"\n",
    "    ORDER BY bookings_for_method DESC;\n",
    "  \"\"\"\n",
    "}"
   ]
  }
 ],
 "metadata": {
  "kernelspec": {
   "display_name": "venv",
   "language": "python",
   "name": "python3"
  },
  "language_info": {
   "codemirror_mode": {
    "name": "ipython",
    "version": 3
   },
   "file_extension": ".py",
   "mimetype": "text/x-python",
   "name": "python",
   "nbconvert_exporter": "python",
   "pygments_lexer": "ipython3",
   "version": "3.12.3"
  }
 },
 "nbformat": 4,
 "nbformat_minor": 5
}
