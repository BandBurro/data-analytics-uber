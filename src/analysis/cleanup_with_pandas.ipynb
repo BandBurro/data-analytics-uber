{
 "cells": [
  {
   "cell_type": "code",
   "execution_count": 5,
   "id": "ea7eb300",
   "metadata": {},
   "outputs": [
    {
     "name": "stdout",
     "output_type": "stream",
     "text": [
      "/home/ubuntias/Data Analyics -- Uber/venv/bin/python\n"
     ]
    }
   ],
   "source": [
    "import sys\n",
    "print(sys.executable)"
   ]
  },
  {
   "cell_type": "markdown",
   "id": "142165dd",
   "metadata": {},
   "source": [
    "Não conseguia dar pip install por que não tinha instalado o \"sudo apt install python3-pip\""
   ]
  },
  {
   "cell_type": "code",
   "execution_count": null,
   "id": "5750af47",
   "metadata": {},
   "outputs": [],
   "source": [
    "pip install pandas"
   ]
  },
  {
   "cell_type": "code",
   "execution_count": 2,
   "id": "7025f130",
   "metadata": {},
   "outputs": [],
   "source": [
    "import pandas as pd"
   ]
  },
  {
   "cell_type": "markdown",
   "id": "1d185dfa",
   "metadata": {},
   "source": [
    "Precisei restartar o Kernel para fazer funcionar, botão de \"Restart\" na toolbar"
   ]
  },
  {
   "cell_type": "code",
   "execution_count": 5,
   "id": "9a2a82e4",
   "metadata": {},
   "outputs": [
    {
     "name": "stdout",
     "output_type": "stream",
     "text": [
      "\n",
      "--- Date ---\n",
      "['2024-03-23' '2024-11-29' '2024-08-23' '2024-10-21' '2024-09-16'\n",
      " '2024-02-06' '2024-06-17' '2024-03-19' '2024-09-14' '2024-12-16']\n",
      "\n",
      "--- Time ---\n",
      "['12:29:38' '18:01:39' '08:56:10' '17:17:25' '22:08:00' '09:44:56'\n",
      " '15:45:58' '17:37:37' '12:49:09' '19:06:48']\n",
      "\n",
      "--- Booking ID ---\n",
      "['\"CNR5884300\"' '\"CNR1326809\"' '\"CNR8494506\"' '\"CNR8906825\"'\n",
      " '\"CNR1950162\"' '\"CNR4096693\"' '\"CNR2002539\"' '\"CNR6568000\"'\n",
      " '\"CNR4510807\"' '\"CNR7721892\"']\n",
      "\n",
      "--- Booking Status ---\n",
      "['No Driver Found' 'Incomplete' 'Completed' 'Cancelled by Driver'\n",
      " 'Cancelled by Customer']\n",
      "\n",
      "--- Customer ID ---\n",
      "['\"CID1982111\"' '\"CID4604802\"' '\"CID9202816\"' '\"CID2610914\"'\n",
      " '\"CID9933542\"' '\"CID4670564\"' '\"CID6800553\"' '\"CID8610436\"'\n",
      " '\"CID7873618\"' '\"CID5214275\"']\n",
      "\n",
      "--- Vehicle Type ---\n",
      "['eBike' 'Go Sedan' 'Auto' 'Premier Sedan' 'Bike' 'Go Mini' 'Uber XL']\n",
      "\n",
      "--- Pickup Location ---\n",
      "['Palam Vihar' 'Shastri Nagar' 'Khandsa' 'Central Secretariat'\n",
      " 'Ghitorni Village' 'AIIMS' 'Vaishali' 'Mayur Vihar' 'Noida Sector 62'\n",
      " 'Rohini']\n",
      "\n",
      "--- Drop Location ---\n",
      "['Jhilmil' 'Gurgaon Sector 56' 'Malviya Nagar' 'Inderlok' 'Khan Market'\n",
      " 'Narsinghpur' 'Punjabi Bagh' 'Cyber Hub' 'Noida Sector 18' 'Adarsh Nagar']\n",
      "\n",
      "--- Avg VTAT ---\n",
      "[ 4.9 13.4 13.1  5.3  5.1  7.1 12.1  6.1  7.7  4.6]\n",
      "\n",
      "--- Avg CTAT ---\n",
      "[14.  25.8 28.5 19.6 18.1 20.4 16.5 26.  18.9 28.2]\n",
      "\n",
      "--- Cancelled Rides by Customer ---\n",
      "[1.]\n",
      "\n",
      "--- Reason for cancelling by Customer ---\n",
      "['Driver is not moving towards pickup location' 'Driver asked to cancel'\n",
      " 'AC is not working' 'Change of plans' 'Wrong Address']\n",
      "\n",
      "--- Cancelled Rides by Driver ---\n",
      "[1.]\n",
      "\n",
      "--- Driver Cancellation Reason ---\n",
      "['Personal & Car related issues' 'Customer related issue'\n",
      " 'More than permitted people in there' 'The customer was coughing/sick']\n",
      "\n",
      "--- Incomplete Rides ---\n",
      "[1.]\n",
      "\n",
      "--- Incomplete Rides Reason ---\n",
      "['Vehicle Breakdown' 'Other Issue' 'Customer Demand']\n",
      "\n",
      "--- Booking Value ---\n",
      "[237. 627. 416. 737. 316. 640. 136. 135. 181. 394.]\n",
      "\n",
      "--- Ride Distance ---\n",
      "[ 5.73 13.58 34.02 48.21  4.85 41.24  6.56 10.36 19.84 21.44]\n",
      "\n",
      "--- Driver Ratings ---\n",
      "[4.9 4.6 4.1 4.  4.4 4.2 4.7 3.8 5.  3.7]\n",
      "\n",
      "--- Customer Rating ---\n",
      "[4.9 5.  4.3 4.6 4.1 4.2 4.7 4.4 3.6 4.5]\n",
      "\n",
      "--- Payment Method ---\n",
      "['UPI' 'Debit Card' 'Cash' 'Uber Wallet' 'Credit Card']\n"
     ]
    }
   ],
   "source": [
    "import pandas as pd\n",
    "\n",
    "df = pd.read_csv(\"../../data/ncr_ride_bookings.csv\", nrows=50000)\n",
    "\n",
    "for col in df.columns:\n",
    "    print(f\"\\n--- {col} ---\")\n",
    "    print(df[col].dropna().unique()[:10])"
   ]
  },
  {
   "cell_type": "markdown",
   "id": "eb342f17",
   "metadata": {},
   "source": [
    "Entendendo o conteudo do CSV com Pandas"
   ]
  },
  {
   "cell_type": "code",
   "execution_count": 8,
   "id": "ec6b39cc",
   "metadata": {},
   "outputs": [
    {
     "name": "stdout",
     "output_type": "stream",
     "text": [
      "OK: data/cleaned_up_pandas.csv\n"
     ]
    }
   ],
   "source": [
    "import pandas as pd\n",
    "\n",
    "df = pd.read_csv(\"data/ncr_ride_bookings.csv\")\n",
    "\n",
    "colunas_uteis = [\"Date\", \"Time\", \"Booking ID\", \"Booking Status\", \"Customer ID\", \"Vehicle Type\", \"Payment Method\"]\n",
    "df = df[colunas_uteis]\n",
    "\n",
    "# df = df.dropna(subset=[\"BID\"]) filtered out rows with missing names\n",
    "# df = df[df[\"date\"] > 0] filtered out rows with non-positive values\n",
    "# não quero filtrar nada, saber o que não esta vindo atraves do data flow pode ser mais interessante\n",
    "\n",
    "# df[\"Date\", \"Time\", \"Booking ID\", \"Booking Status\", \"Customer ID\", \"Vehicle Type\", \"Payment Method\"] = df[\"Date\", \"Time\", \"Booking ID\", \"Booking Status\", \"Customer ID\", \"Vehicle Type\", \"Payment Method\"].str.strip() # remove espaços em branco no começo e no final\n",
    "for col in colunas_uteis: # um jeito mais polido de digitar a mesma coisa acima\n",
    "    df[col] = df[col].str.strip()\n",
    "df[\"Vehicle Type\"] = df[\"Vehicle Type\"].str.lower() # padroniza para minúsculas\n",
    "# quero apenas os vehicle types padronizados para minusculas\n",
    "\n",
    "df = df.sort_values([\"Date\",\"Time\"], ascending=[True, True]) # ordena por data e hora crescente\n",
    "\n",
    "# df.to_csv(\"data/cleaned_up_pandas.csv\", index=False) versão mais polida do simples do and print\n",
    "try:\n",
    "    df.to_csv(\"data/cleaned_up_pandas.csv\", index=False)\n",
    "    print(\"OK: data/cleaned_up_pandas.csv\")\n",
    "except Exception as e:\n",
    "    print(f\"Error saving file: {e}.csv\")\n"
   ]
  },
  {
   "cell_type": "code",
   "execution_count": 7,
   "id": "0ef3b2ad",
   "metadata": {},
   "outputs": [
    {
     "name": "stdout",
     "output_type": "stream",
     "text": [
      "\n",
      "--- Date ---\n",
      "['2024-01-01' '2024-01-02' '2024-01-03' '2024-01-04' '2024-01-05'\n",
      " '2024-01-06' '2024-01-07' '2024-01-08' '2024-01-09' '2024-01-10']\n",
      "\n",
      "--- Time ---\n",
      "['00:19:34' '01:35:18' '01:37:50' '01:48:03' '01:49:56' '01:53:01'\n",
      " '02:14:50' '02:43:46' '02:56:49' '02:59:14']\n",
      "\n",
      "--- Booking ID ---\n",
      "['\"CNR4352144\"' '\"CNR9147645\"' '\"CNR1009222\"' '\"CNR2740479\"'\n",
      " '\"CNR7650148\"' '\"CNR8140858\"' '\"CNR8839592\"' '\"CNR4510033\"'\n",
      " '\"CNR9519641\"' '\"CNR4588428\"']\n",
      "\n",
      "--- Booking Status ---\n",
      "['Completed' 'Cancelled by Driver' 'No Driver Found'\n",
      " 'Cancelled by Customer' 'Incomplete']\n",
      "\n",
      "--- Customer ID ---\n",
      "['\"CID8362794\"' '\"CID8300238\"' '\"CID2030746\"' '\"CID3231181\"'\n",
      " '\"CID3381661\"' '\"CID9268400\"' '\"CID6577042\"' '\"CID3289424\"'\n",
      " '\"CID1177393\"' '\"CID3087143\"']\n",
      "\n",
      "--- Vehicle Type ---\n",
      "['bike' 'go mini' 'go sedan' 'auto' 'ebike' 'premier sedan' 'uber xl']\n",
      "\n",
      "--- Payment Method ---\n",
      "['Cash' 'Uber Wallet' 'UPI' 'Credit Card' 'Debit Card']\n"
     ]
    }
   ],
   "source": [
    "df = pd.read_csv(\"../../data/cleaned_up_pandas.csv\", nrows=50000)\n",
    "\n",
    "for col in df.columns:\n",
    "    print(f\"\\n--- {col} ---\")\n",
    "    print(df[col].dropna().unique()[:10])"
   ]
  }
 ],
 "metadata": {
  "kernelspec": {
   "display_name": "venv",
   "language": "python",
   "name": "python3"
  },
  "language_info": {
   "codemirror_mode": {
    "name": "ipython",
    "version": 3
   },
   "file_extension": ".py",
   "mimetype": "text/x-python",
   "name": "python",
   "nbconvert_exporter": "python",
   "pygments_lexer": "ipython3",
   "version": "3.12.3"
  }
 },
 "nbformat": 4,
 "nbformat_minor": 5
}
